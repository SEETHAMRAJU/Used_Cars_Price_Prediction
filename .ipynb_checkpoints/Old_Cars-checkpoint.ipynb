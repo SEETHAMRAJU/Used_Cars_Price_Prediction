{
 "cells": [
  {
   "cell_type": "code",
   "execution_count": 1,
   "metadata": {},
   "outputs": [],
   "source": [
    "import numpy as np\n",
    "import pandas as pd"
   ]
  },
  {
   "cell_type": "code",
   "execution_count": 3,
   "metadata": {},
   "outputs": [
    {
     "name": "stdout",
     "output_type": "stream",
     "text": [
      "1876\n"
     ]
    }
   ],
   "source": [
    "data_train = pd.read_csv('Data_Train.csv')\n",
    "print data_train['Name'].nunique()"
   ]
  },
  {
   "cell_type": "code",
   "execution_count": 4,
   "metadata": {},
   "outputs": [],
   "source": [
    "cars = list(data_train['Name'].unique())"
   ]
  },
  {
   "cell_type": "code",
   "execution_count": 5,
   "metadata": {
    "collapsed": true
   },
   "outputs": [
    {
     "data": {
      "text/plain": [
       "0          1\n",
       "1          2\n",
       "2          3\n",
       "3          4\n",
       "4          5\n",
       "5          6\n",
       "6          7\n",
       "7          8\n",
       "8          9\n",
       "9         10\n",
       "10        11\n",
       "11        12\n",
       "12        13\n",
       "13        14\n",
       "14        15\n",
       "15        16\n",
       "16        17\n",
       "17        18\n",
       "18        19\n",
       "19        20\n",
       "20        21\n",
       "21        22\n",
       "22        23\n",
       "23        24\n",
       "24        25\n",
       "25        26\n",
       "26         7\n",
       "27        27\n",
       "28        28\n",
       "29        29\n",
       "        ... \n",
       "5989    1591\n",
       "5990    1871\n",
       "5991      53\n",
       "5992     165\n",
       "5993    1872\n",
       "5994    1337\n",
       "5995    1846\n",
       "5996     447\n",
       "5997    1873\n",
       "5998    1874\n",
       "5999    1875\n",
       "6000     979\n",
       "6001     632\n",
       "6002      34\n",
       "6003     419\n",
       "6004    1283\n",
       "6005     115\n",
       "6006    1411\n",
       "6007     633\n",
       "6008    1245\n",
       "6009     629\n",
       "6010     275\n",
       "6011    1252\n",
       "6012      29\n",
       "6013     199\n",
       "6014      53\n",
       "6015      48\n",
       "6016    1876\n",
       "6017     203\n",
       "6018     693\n",
       "Name: Name, Length: 6019, dtype: int64"
      ]
     },
     "execution_count": 5,
     "metadata": {},
     "output_type": "execute_result"
    }
   ],
   "source": [
    "#converting the names of cars from strings to numbers \n",
    "d = {}\n",
    "i = 1\n",
    "for j in cars:\n",
    "    d[j] = i;\n",
    "    i += 1;\n",
    "data_train['Name'].map(d).astype(int)"
   ]
  },
  {
   "cell_type": "code",
   "execution_count": 6,
   "metadata": {},
   "outputs": [],
   "source": [
    "loca = list(data_train['Location'].unique())"
   ]
  },
  {
   "cell_type": "code",
   "execution_count": 11,
   "metadata": {
    "collapsed": true
   },
   "outputs": [
    {
     "name": "stdout",
     "output_type": "stream",
     "text": [
      "0\n"
     ]
    },
    {
     "data": {
      "text/plain": [
       "0        1\n",
       "1        2\n",
       "2        3\n",
       "3        3\n",
       "4        4\n",
       "5        5\n",
       "6        6\n",
       "7        1\n",
       "8        2\n",
       "9        3\n",
       "10       7\n",
       "11       8\n",
       "12       6\n",
       "13       9\n",
       "14       2\n",
       "15       9\n",
       "16       7\n",
       "17       6\n",
       "18       7\n",
       "19      10\n",
       "20       7\n",
       "21      10\n",
       "22       1\n",
       "23       8\n",
       "24       8\n",
       "25       1\n",
       "26       5\n",
       "27       5\n",
       "28       7\n",
       "29       1\n",
       "        ..\n",
       "5989     4\n",
       "5990     2\n",
       "5991     5\n",
       "5992     1\n",
       "5993     1\n",
       "5994     2\n",
       "5995     2\n",
       "5996     7\n",
       "5997     6\n",
       "5998     2\n",
       "5999     3\n",
       "6000    10\n",
       "6001     7\n",
       "6002     1\n",
       "6003    10\n",
       "6004     4\n",
       "6005     2\n",
       "6006     1\n",
       "6007     9\n",
       "6008     5\n",
       "6009     1\n",
       "6010     9\n",
       "6011     5\n",
       "6012     4\n",
       "6013     4\n",
       "6014     9\n",
       "6015     6\n",
       "6016     6\n",
       "6017     8\n",
       "6018     5\n",
       "Name: Location, Length: 6019, dtype: int64"
      ]
     },
     "execution_count": 11,
     "metadata": {},
     "output_type": "execute_result"
    }
   ],
   "source": [
    "l = {}\n",
    "i = 1\n",
    "for cl in loca:\n",
    "    l[cl] = i\n",
    "    i += 1\n",
    "print data_train['Location'].isnull().sum()\n",
    "data_train['Location'].map(l).astype(int)"
   ]
  },
  {
   "cell_type": "code",
   "execution_count": 12,
   "metadata": {
    "collapsed": true
   },
   "outputs": [
    {
     "name": "stdout",
     "output_type": "stream",
     "text": [
      "0\n",
      "0\n",
      "0\n"
     ]
    },
    {
     "data": {
      "text/plain": [
       "0       1\n",
       "1       1\n",
       "2       1\n",
       "3       1\n",
       "4       2\n",
       "5       1\n",
       "6       1\n",
       "7       2\n",
       "8       1\n",
       "9       1\n",
       "10      1\n",
       "11      2\n",
       "12      1\n",
       "13      2\n",
       "14      2\n",
       "15      1\n",
       "16      1\n",
       "17      1\n",
       "18      1\n",
       "19      2\n",
       "20      2\n",
       "21      1\n",
       "22      2\n",
       "23      1\n",
       "24      2\n",
       "25      1\n",
       "26      1\n",
       "27      1\n",
       "28      1\n",
       "29      1\n",
       "       ..\n",
       "5989    2\n",
       "5990    1\n",
       "5991    1\n",
       "5992    2\n",
       "5993    1\n",
       "5994    1\n",
       "5995    1\n",
       "5996    2\n",
       "5997    1\n",
       "5998    1\n",
       "5999    1\n",
       "6000    1\n",
       "6001    2\n",
       "6002    1\n",
       "6003    1\n",
       "6004    1\n",
       "6005    1\n",
       "6006    2\n",
       "6007    1\n",
       "6008    2\n",
       "6009    2\n",
       "6010    1\n",
       "6011    2\n",
       "6012    1\n",
       "6013    1\n",
       "6014    1\n",
       "6015    1\n",
       "6016    1\n",
       "6017    1\n",
       "6018    1\n",
       "Name: Transmission, Length: 6019, dtype: int64"
      ]
     },
     "execution_count": 12,
     "metadata": {},
     "output_type": "execute_result"
    }
   ],
   "source": [
    "fuel = {}\n",
    "trans = {}\n",
    "own = {}\n",
    "t = list(data_train['Transmission'].unique())\n",
    "o = list(data_train['Owner_Type'].unique())\n",
    "f = list(data_train['Fuel_Type'].unique())\n",
    "\n",
    "i = 1\n",
    "for cl in f:\n",
    "    fuel[cl] = i\n",
    "    i += 1\n",
    "print data_train['Fuel_Type'].isnull().sum()\n",
    "data_train['Fuel_Type'].map(fuel).astype(int)\n",
    "\n",
    "l = {}\n",
    "i = 1\n",
    "for cl in o:\n",
    "    own[cl] = i\n",
    "    i += 1\n",
    "print data_train['Owner_Type'].isnull().sum()\n",
    "data_train['Owner_Type'].map(own).astype(int)\n",
    "\n",
    "l = {}\n",
    "i = 1\n",
    "for cl in t:\n",
    "    trans[cl] = i\n",
    "    i += 1\n",
    "print data_train['Transmission'].isnull().sum()\n",
    "data_train['Transmission'].map(trans).astype(int)"
   ]
  },
  {
   "cell_type": "code",
   "execution_count": 13,
   "metadata": {},
   "outputs": [
    {
     "name": "stdout",
     "output_type": "stream",
     "text": [
      "Name <type 'str'>\n",
      "Location <type 'str'>\n",
      "Year <type 'numpy.int64'>\n",
      "Kilometers_Driven <type 'numpy.int64'>\n",
      "Fuel_Type <type 'str'>\n",
      "Transmission <type 'str'>\n",
      "Owner_Type <type 'str'>\n",
      "Mileage <type 'str'>\n",
      "Engine <type 'str'>\n",
      "Power <type 'str'>\n",
      "Seats <type 'numpy.float64'>\n",
      "New_Price <type 'float'>\n",
      "Price <type 'numpy.float64'>\n"
     ]
    }
   ],
   "source": [
    "for cl in data_train.columns:\n",
    "    print cl,type(data_train[cl][0])"
   ]
  },
  {
   "cell_type": "code",
   "execution_count": 14,
   "metadata": {},
   "outputs": [
    {
     "name": "stdout",
     "output_type": "stream",
     "text": [
      "nan\n",
      "nan\n",
      "nan\n",
      "nan\n",
      "nan\n",
      "nan\n",
      "nan\n",
      "nan\n",
      "nan\n",
      "nan\n",
      "nan\n",
      "nan\n",
      "nan\n",
      "nan\n",
      "nan\n",
      "nan\n",
      "nan\n",
      "nan\n",
      "nan\n",
      "nan\n",
      "nan\n",
      "nan\n",
      "nan\n",
      "nan\n",
      "nan\n",
      "nan\n",
      "nan\n",
      "nan\n",
      "nan\n",
      "nan\n",
      "nan\n",
      "nan\n",
      "nan\n",
      "nan\n",
      "nan\n",
      "nan\n",
      "1876 1860\n"
     ]
    }
   ],
   "source": [
    "data = {}\n",
    "cnt = 0\n",
    "for i in range(0,6019):\n",
    "    if(type(0.0) != type(data_train['Engine'][i])):\n",
    "        data[data_train['Name'][i]] = data_train['Engine'][i]\n",
    "    else:\n",
    "        print data_train['Engine'][i]\n",
    "temp = [1248,4367,1298,1197,3630,1197,1086,1248,2100,999,1197,2345,1248,1086,1172,1368]\n",
    "k = 0\n",
    "print len(cars),len(data.keys())\n",
    "for i in cars:\n",
    "    if i not in data.keys():\n",
    "        k += 1\n",
    "eng = {}"
   ]
  },
  {
   "cell_type": "code",
   "execution_count": 111,
   "metadata": {},
   "outputs": [
    {
     "name": "stdout",
     "output_type": "stream",
     "text": [
      "998 CC\n"
     ]
    },
    {
     "ename": "ValueError",
     "evalue": "could not convert string to float: M",
     "output_type": "error",
     "traceback": [
      "\u001b[0;31m---------------------------------------------------------------------------\u001b[0m",
      "\u001b[0;31mValueError\u001b[0m                                Traceback (most recent call last)",
      "\u001b[0;32m<ipython-input-111-49ca94ce7742>\u001b[0m in \u001b[0;36m<module>\u001b[0;34m()\u001b[0m\n\u001b[1;32m      5\u001b[0m     \u001b[0;32melse\u001b[0m\u001b[0;34m:\u001b[0m\u001b[0;34m\u001b[0m\u001b[0m\n\u001b[1;32m      6\u001b[0m         \u001b[0;32mprint\u001b[0m \u001b[0mdata_train\u001b[0m\u001b[0;34m[\u001b[0m\u001b[0;34m'Engine'\u001b[0m\u001b[0;34m]\u001b[0m\u001b[0;34m[\u001b[0m\u001b[0mi\u001b[0m\u001b[0;34m]\u001b[0m\u001b[0;31m#.split()\u001b[0m\u001b[0;34m\u001b[0m\u001b[0m\n\u001b[0;32m----> 7\u001b[0;31m         \u001b[0mdata_train\u001b[0m\u001b[0;34m[\u001b[0m\u001b[0;34m'Engine'\u001b[0m\u001b[0;34m]\u001b[0m\u001b[0;34m[\u001b[0m\u001b[0mi\u001b[0m\u001b[0;34m]\u001b[0m \u001b[0;34m=\u001b[0m \u001b[0mfloat\u001b[0m\u001b[0;34m(\u001b[0m\u001b[0mj\u001b[0m\u001b[0;34m[\u001b[0m\u001b[0;36m0\u001b[0m\u001b[0;34m]\u001b[0m\u001b[0;34m)\u001b[0m\u001b[0;34m\u001b[0m\u001b[0m\n\u001b[0m",
      "\u001b[0;31mValueError\u001b[0m: could not convert string to float: M"
     ]
    }
   ],
   "source": [
    "\n",
    "for i in range(0,6019):#data_train['Engine']:\n",
    "    if(type(1.0) == type(data_train['Engine'][i])):\n",
    "            data_train['Engine'][i] =  data[data_train['Name'][i]]\n",
    "    else:\n",
    "        print data_train['Engine'][i]#.split()\n",
    "        data_train['Engine'][i] = float(j[0])"
   ]
  },
  {
   "cell_type": "code",
   "execution_count": 108,
   "metadata": {},
   "outputs": [
    {
     "name": "stdout",
     "output_type": "stream",
     "text": [
      "Maruti Swift 1.3 VXi\n",
      "Land Rover Range Rover 3.0 D\n",
      "Honda City 1.3 DX\n",
      "Maruti Swift 1.3 ZXI\n",
      "Land Rover Range Rover Sport 2005 2012 Sport\n",
      "Maruti Swift 1.3 LXI\n",
      "Hyundai Santro LP zipPlus\n",
      "Maruti Swift 1.3 VXI ABS\n",
      "BMW 5 Series 520d Sedan\n",
      "Hyundai Santro GLS II - Euro II\n",
      "Maruti Wagon R Vx\n",
      "Honda CR-V AT With Sun Roof\n",
      "Fiat Punto 1.3 Emotion\n",
      "Hyundai Santro Xing XG\n",
      "Fiat Punto 1.2 Dynamic\n",
      "Fiat Punto 1.4 Emotion\n",
      "-----------------------------\n",
      "Mahindra E Verito D4\n",
      "Toyota Prius 2009-2016 Z4\n"
     ]
    }
   ],
   "source": [
    "#Mileage <type 'str'>\n",
    "#Power <type 'str'>\n",
    "data1 = {}\n",
    "data2= {}\n",
    "cnt = 0\n",
    "for i in range(0,6019):\n",
    "    if(type(0.0) != type(data_train['Power'][i])):\n",
    "        data1[data_train['Name'][i]] = data_train['Power'][i]\n",
    "    if(type(0.0) != type(data_train['Mileage'][i])):\n",
    "        data2[data_train['Name'][i]] = data_train['Mileage'][i]\n",
    "mil = [84,557.86,100,82,241.4,74,82,84,188,55,82,67,118,91.7,63,67,88.7]\n",
    "k = 0\n",
    "for i in cars:\n",
    "    if i not in data1.keys():\n",
    "        data1[i] = k\n",
    "        k += 1\n",
    "print \"-----------------------------\"\n",
    "for j in cars:\n",
    "    if j not in data2.keys():\n",
    "        print j"
   ]
  },
  {
   "cell_type": "code",
   "execution_count": 123,
   "metadata": {},
   "outputs": [
    {
     "name": "stdout",
     "output_type": "stream",
     "text": [
      "0 Name\n",
      "0 Location\n",
      "0 Year\n",
      "0 Kilometers_Driven\n",
      "0 Fuel_Type\n",
      "0 Transmission\n",
      "0 Owner_Type\n",
      "2 Mileage\n",
      "0 Engine\n",
      "36 Power\n",
      "42 Seats\n",
      "5195 New_Price\n",
      "0 Price\n"
     ]
    }
   ],
   "source": [
    "for j in data_train.columns:\n",
    "    print data_train[j].isnull().sum(),j"
   ]
  },
  {
   "cell_type": "code",
   "execution_count": null,
   "metadata": {},
   "outputs": [],
   "source": []
  }
 ],
 "metadata": {
  "kernelspec": {
   "display_name": "Python 2",
   "language": "python",
   "name": "python2"
  },
  "language_info": {
   "codemirror_mode": {
    "name": "ipython",
    "version": 2
   },
   "file_extension": ".py",
   "mimetype": "text/x-python",
   "name": "python",
   "nbconvert_exporter": "python",
   "pygments_lexer": "ipython2",
   "version": "2.7.15rc1"
  }
 },
 "nbformat": 4,
 "nbformat_minor": 2
}
